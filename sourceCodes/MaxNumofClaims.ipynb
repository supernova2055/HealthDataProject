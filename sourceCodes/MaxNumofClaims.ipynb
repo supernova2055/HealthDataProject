{
 "cells": [
  {
   "cell_type": "code",
   "execution_count": 0,
   "metadata": {
    "application/vnd.databricks.v1+cell": {
     "cellMetadata": {},
     "inputWidgets": {},
     "nuid": "72e70409-a32f-4cd7-958b-577674733145",
     "showTitle": false,
     "title": ""
    }
   },
   "outputs": [],
   "source": []
  },
  {
   "cell_type": "code",
   "execution_count": 0,
   "metadata": {
    "application/vnd.databricks.v1+cell": {
     "cellMetadata": {
      "byteLimit": 2048000,
      "rowLimit": 10000
     },
     "inputWidgets": {},
     "nuid": "dae062de-475b-49a6-9f10-25f41ea9380f",
     "showTitle": false,
     "title": ""
    }
   },
   "outputs": [
    {
     "output_type": "stream",
     "name": "stdout",
     "output_type": "stream",
     "text": [
      "+-----------------+----------+------------+----------+--------+----------------+----------------+----------+\n|Claim_Or_Rejected|    SUB_ID|claim_amount|claim_date|claim_id|      claim_type|    disease_name|patient_id|\n+-----------------+----------+------------+----------+--------+----------------+----------------+----------+\n|                N| SUBID1000|       79874|1949-03-14|       0| claims of value|    Galactosemia|    187158|\n|              NaN|SUBID10001|      151142|1970-03-16|       1|claims of policy|  Bladder cancer|    112766|\n|              NaN|SUBID10002|       59924|2008-02-03|       2| claims of value|   Kidney cancer|    199252|\n|              NaN|SUBID10003|      143120|1995-02-08|       3|  claims of fact|         Suicide|    133424|\n|                Y|SUBID10004|      168634|1967-05-23|       4| claims of value|    Food allergy|    172579|\n|              NaN|SUBID10005|       64840|1991-10-04|       5|claims of policy|        Whiplash|    171320|\n|                N| SUBID1006|       26800|1991-03-26|       6|  claims of fact|      Sunbathing|    107794|\n|              NaN|SUBID10007|      177186|1946-09-05|       7| claims of value|Drug consumption|    130339|\n|                N|SUBID10008|      141123|1966-06-20|       8|  claims of fact|          Dengue|    110377|\n|                N|SUBID10009|       88540|1945-12-29|       9| claims of value|    Head banging|    149367|\n|                N| SUBID1010|       29150|1999-01-25|      10| claims of value| Fanconi anaemia|    156168|\n|                Y|SUBID10011|       40897|1975-02-08|      11| claims of value|   Breast cancer|    114241|\n|              NaN|SUBID10012|       75983|1985-02-12|      12| claims of value|         Anthrax|    146382|\n|              NaN|SUBID10013|      192340|2014-07-30|      13|  claims of fact| Cystic fibrosis|    132748|\n|                N|SUBID10014|      118628|2003-12-18|      14| claims of value|    Galactosemia|    167340|\n|                Y|SUBID10015|      100224|1986-08-02|      15| claims of value|          Dengue|    135184|\n|                N|SUBID10016|       42860|1955-01-20|      16| claims of value|        Smallpox|    179662|\n|                N|SUBID10017|      161786|2017-06-01|      17|claims of policy|  Pollen allergy|    184479|\n|              NaN|SUBID10018|       66129|1956-01-04|      18|  claims of fact|   Breast cancer|    156988|\n|              NaN|SUBID10019|      182552|1948-07-26|      19| claims of value|        Glaucoma|    132870|\n+-----------------+----------+------------+----------+--------+----------------+----------------+----------+\nonly showing top 20 rows\n\nroot\n |-- Claim_Or_Rejected: string (nullable = true)\n |-- SUB_ID: string (nullable = true)\n |-- claim_amount: string (nullable = true)\n |-- claim_date: string (nullable = true)\n |-- claim_id: long (nullable = true)\n |-- claim_type: string (nullable = true)\n |-- disease_name: string (nullable = true)\n |-- patient_id: long (nullable = true)\n\n"
     ]
    }
   ],
   "source": [
    "spark.sparkContext._jsc.hadoopConfiguration().set(\"fs.s3a.access.key\", \"AKIA5**********\")\n",
    "spark.sparkContext._jsc.hadoopConfiguration().set(\"fs.s3a.secret.key\", \"Uosypr/D****************WMiikEXO2Ak\")\n",
    "raw_data = spark.read.json(\"s3://my-bucket-om/capstone/claims.json\")\n",
    "#raw_data.write.format(\"delta\").mode(\"overwrite\").save(\"/mnt/delta/raw_data111\")\n",
    "#dbutils.notebook.exit(\"/mnt/delta/raw_data111\")\n",
    "raw_data.show()\n",
    "raw_data.printSchema()\n",
    "\n",
    "raw_data.createOrReplaceTempView(\"raw_data\")"
   ]
  },
  {
   "cell_type": "code",
   "execution_count": 0,
   "metadata": {
    "application/vnd.databricks.v1+cell": {
     "cellMetadata": {
      "byteLimit": 2048000,
      "rowLimit": 10000
     },
     "inputWidgets": {},
     "nuid": "404f1e1c-5a3c-41be-bb90-8debec3c06e4",
     "showTitle": false,
     "title": ""
    }
   },
   "outputs": [],
   "source": [
    "raw_data.write.format(\"redshift\").option(\"url\", \"jdbc:redshift://default-workgroup.905418268138.us-east-2.redshift-serverless.amazonaws.com:5439/dev\").\\\n",
    "   option(\"dbtable\", \"test.rawdataTest\").\\\n",
    "   option(\"aws_iam_role\", \"arn:aws:iam::**********:role/redshift_admin\").\\\n",
    "   option(\"tempdir\", \"s3a://glue-bucket-om999/temp2/\").\\\n",
    "   option(\"user\", \"admin\").\\\n",
    "   option(\"password\", \"***********\").save()"
   ]
  },
  {
   "cell_type": "code",
   "execution_count": 0,
   "metadata": {
    "application/vnd.databricks.v1+cell": {
     "cellMetadata": {
      "byteLimit": 2048000,
      "implicitDf": true,
      "rowLimit": 10000
     },
     "inputWidgets": {},
     "nuid": "5ba7d99a-0e3d-46d5-a903-72dee64201d0",
     "showTitle": false,
     "title": ""
    }
   },
   "outputs": [
    {
     "output_type": "display_data",
     "data": {
      "text/html": [
       "<style scoped>\n",
       "  .table-result-container {\n",
       "    max-height: 300px;\n",
       "    overflow: auto;\n",
       "  }\n",
       "  table, th, td {\n",
       "    border: 1px solid black;\n",
       "    border-collapse: collapse;\n",
       "  }\n",
       "  th, td {\n",
       "    padding: 5px;\n",
       "  }\n",
       "  th {\n",
       "    text-align: left;\n",
       "  }\n",
       "</style><div class='table-result-container'><table class='table-result'><thead style='background-color: white'><tr><th>disease_name</th></tr></thead><tbody><tr><td>Pet allergy</td></tr><tr><td>Anthrax</td></tr><tr><td>Galactosemia</td></tr><tr><td>Glaucoma</td></tr><tr><td>Phenylketonuria</td></tr><tr><td>Head banging</td></tr></tbody></table></div>"
      ]
     },
     "metadata": {
      "application/vnd.databricks.v1+output": {
       "addedWidgets": {},
       "aggData": [],
       "aggError": "",
       "aggOverflow": false,
       "aggSchema": [],
       "aggSeriesLimitReached": false,
       "aggType": "",
       "arguments": {},
       "columnCustomDisplayInfos": {},
       "data": [
        [
         "Pet allergy"
        ],
        [
         "Anthrax"
        ],
        [
         "Galactosemia"
        ],
        [
         "Glaucoma"
        ],
        [
         "Phenylketonuria"
        ],
        [
         "Head banging"
        ]
       ],
       "datasetInfos": [],
       "dbfsResultPath": null,
       "isJsonSchema": true,
       "metadata": {},
       "overflow": false,
       "plotOptions": {
        "customPlotOptions": {},
        "displayType": "table",
        "pivotAggregation": null,
        "pivotColumns": null,
        "xColumns": null,
        "yColumns": null
       },
       "removedWidgets": [],
       "schema": [
        {
         "metadata": "{}",
         "name": "disease_name",
         "type": "\"string\""
        }
       ],
       "type": "table"
      }
     },
     "output_type": "display_data"
    }
   ],
   "source": [
    "%sql\n",
    "WITH DiseaseCounts AS (\n",
    "    SELECT \n",
    "        disease_name, \n",
    "        COUNT(disease_name) AS totalCount \n",
    "    FROM \n",
    "        raw_data \n",
    "    GROUP BY \n",
    "        disease_name\n",
    "),\n",
    "MaxCount AS (\n",
    "    SELECT \n",
    "        MAX(totalCount) AS maxCount \n",
    "    FROM \n",
    "        DiseaseCounts\n",
    ")\n",
    "SELECT \n",
    "    A.disease_name \n",
    "FROM \n",
    "    DiseaseCounts A\n",
    "JOIN \n",
    "    MaxCount B \n",
    "ON \n",
    "    A.totalCount = B.maxCount;\n"
   ]
  },
  {
   "cell_type": "code",
   "execution_count": 0,
   "metadata": {
    "application/vnd.databricks.v1+cell": {
     "cellMetadata": {
      "byteLimit": 2048000,
      "rowLimit": 10000
     },
     "inputWidgets": {},
     "nuid": "85081671-3345-4a75-9de6-4ba7bee6312c",
     "showTitle": false,
     "title": ""
    }
   },
   "outputs": [
    {
     "output_type": "stream",
     "name": "stdout",
     "output_type": "stream",
     "text": [
      "+---------------+\n|   disease_name|\n+---------------+\n|    Pet allergy|\n|        Anthrax|\n|   Galactosemia|\n|       Glaucoma|\n|Phenylketonuria|\n|   Head banging|\n+---------------+\n\n"
     ]
    }
   ],
   "source": [
    "output = spark.sql(\"WITH DiseaseCounts AS (SELECT disease_name, COUNT(disease_name) AS totalCount FROM raw_data GROUP BY disease_name),\\\n",
    "MaxCount AS (SELECT MAX(totalCount) AS maxCount FROM DiseaseCounts)\\\n",
    "SELECT A.disease_name FROM DiseaseCounts A JOIN MaxCount B ON A.totalCount = B.maxCount;\")\n",
    "\n",
    "output.show()"
   ]
  },
  {
   "cell_type": "code",
   "execution_count": 0,
   "metadata": {
    "application/vnd.databricks.v1+cell": {
     "cellMetadata": {
      "byteLimit": 2048000,
      "rowLimit": 10000
     },
     "inputWidgets": {},
     "nuid": "57d6ae98-1770-4cc8-9248-90f2c93481df",
     "showTitle": false,
     "title": ""
    }
   },
   "outputs": [],
   "source": [
    "output.write.format(\"redshift\").option(\"url\", \"jdbc:redshift://default-workgroup.905418268138.us-east-2.redshift-serverless.amazonaws.com:5439/dev\").\\\n",
    "   option(\"dbtable\", \"capstone.maxClaimsforDisease\").\\\n",
    "   option(\"aws_iam_role\", \"arn:aws:iam::**********:role/redshift_admin\").\\\n",
    "   option(\"tempdir\", \"s3a://glue-bucket-om999/temp2/\").\\\n",
    "   option(\"user\", \"admin\").\\\n",
    "   option(\"password\", \"***********\").save()"
   ]
  }
 ],
 "metadata": {
  "application/vnd.databricks.v1+notebook": {
   "dashboards": [],
   "environmentMetadata": null,
   "language": "python",
   "notebookMetadata": {
    "mostRecentlyExecutedCommandWithImplicitDF": {
     "commandId": 892256415453588,
     "dataframes": [
      "_sqldf"
     ]
    },
    "pythonIndentUnit": 4
   },
   "notebookName": "MaxNumofClaims",
   "widgets": {}
  }
 },
 "nbformat": 4,
 "nbformat_minor": 0
}
