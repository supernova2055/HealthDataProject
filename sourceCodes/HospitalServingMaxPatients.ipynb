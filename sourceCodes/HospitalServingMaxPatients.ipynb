{
 "cells": [
  {
   "cell_type": "code",
   "execution_count": 0,
   "metadata": {
    "application/vnd.databricks.v1+cell": {
     "cellMetadata": {
      "byteLimit": 2048000,
      "rowLimit": 10000
     },
     "inputWidgets": {},
     "nuid": "833529aa-211d-4991-bf2a-520a89597d7c",
     "showTitle": false,
     "title": ""
    }
   },
   "outputs": [
    {
     "output_type": "stream",
     "name": "stdout",
     "output_type": "stream",
     "text": [
      "+----------+------------+--------------+------------------+--------------+----------------+--------------------+-----------+\n|Patient_id|Patient_name|patient_gender|patient_birth_date| patient_phone|    disease_name|                city|hospital_id|\n+----------+------------+--------------+------------------+--------------+----------------+--------------------+-----------+\n|    187158|      Harbir|        Female|        1924-06-30|+91 0112009318|    Galactosemia|            Rourkela|      H1001|\n|    112766|    Brahmdev|        Female|        1948-12-20|+91 1727749552|  Bladder cancer|        Tiruvottiyur|      H1016|\n|    199252|     Ujjawal|          Male|        1980-04-16|+91 8547451606|   Kidney cancer|           Berhampur|      H1009|\n|    133424|     Ballari|        Female|        1969-09-25|+91 0106026841|         Suicide|        Bihar Sharif|      H1017|\n|    172579|     Devnath|        Female|        1946-05-01|+91 1868774631|    Food allergy|         Bidhannagar|      H1019|\n|    171320|       Atasi|          Male|        1967-10-02|+91 9747336855|        Whiplash|            Amravati|      H1013|\n|    107794|      Manish|          Male|        1967-06-06|+91 4354294043|      Sunbathing|              Panvel|      H1004|\n|    130339|       Aakar|        Female|        1925-03-05|+91 2777633911|Drug consumption|        Bihar Sharif|      H1000|\n|    110377|     Gurudas|          Male|        1945-05-06|+91 1232859381|          Dengue|           Kamarhati|      H1001|\n|    149367|        null|          Male|        1925-06-12|+91 1780763280|    Head banging|           Bangalore|      H1013|\n|    156168|        null|          Male|        1976-02-03|+91 5586075345| Fanconi anaemia|              Rajkot|      H1004|\n|    114241|        null|        Female|        1955-01-22|+91 4146391938|   Breast cancer|           Ghaziabad|      H1015|\n|    146382|  Dharmadaas|          Male|        1964-04-29|+91 6345482027|         Anthrax|Bhalswa Jahangir Pur|      H1019|\n|    132748|    Brahmvir|          Male|        1991-11-11|+91 7316972612| Cystic fibrosis|              Ambala|      H1018|\n|    167340|        null|        Female|        1981-01-25|+91 2960004518|    Galactosemia|Surendranagar Dud...|      H1003|\n|    135184|     Bhagvan|        Female|        1966-07-24|+91 0297693485|          Dengue|          Bhimavaram|      H1018|\n|    179662|   Amritkala|        Female|        1933-11-20|+91 0537157280|        Smallpox|              Meerut|      H1018|\n|    184479|      Bandhu|          Male|        1996-10-15|+91 0695289163|  Pollen allergy|           Chinsurah|      H1010|\n|    156988|  Bhagavaana|        Female|        1935-09-16|+91 6071745855|   Breast cancer|        Shahjahanpur|      H1012|\n|    132870|        null|        Female|        1924-11-09|+91 8906694405|        Glaucoma|            Jabalpur|      H1017|\n+----------+------------+--------------+------------------+--------------+----------------+--------------------+-----------+\nonly showing top 20 rows\n\n+-----------+--------------------+----------+-----------+-------+\n|Hospital_id|       Hospital_name|      city|      state|country|\n+-----------+--------------------+----------+-----------+-------+\n|      H1000|All India Institu...| New Delhi|        NaN|  India|\n|      H1001|Medanta The Medicity|   Gurgaon|    Haryana|  India|\n|      H1002|The Christian Med...|   Vellore| Tamil Nadu|  India|\n|      H1003|PGIMER - Postgrad...|Chandigarh|    Haryana|  India|\n|      H1004|Apollo Hospital -...|   Chennai| Tamil Nadu|  India|\n|      H1005|P. D. Hinduja Nat...|    Mumbai|Maharashtra|  India|\n|      H1006|Breach Candy Hosp...|    Mumbai|Maharashtra|  India|\n|      H1007|Fortis Flt. Lt. R...| New Delhi|        NaN|  India|\n|      H1008|King Edward Memor...|    Mumbai|Maharashtra|  India|\n|      H1009|Indraprastha Apol...|     Delhi|        NaN|  India|\n|      H1010|Lilavati Hospital...|    Mumbai|Maharashtra|  India|\n|      H1011|Sir Ganga Ram Hos...|     Delhi|        NaN|  India|\n|      H1012|Bombay Hospital &...|    Mumbai|Maharashtra|  India|\n|      H1013|Apollo Health Cit...| Hyderabad|  Telangana|  India|\n|      H1014|Fortis Hiranandan...|    Mumbai|Maharashtra|  India|\n|      H1015|Fortis Hospital M...|    Mumbai|Maharashtra|  India|\n|      H1016|Jaslok Hospital a...|    Mumbai|Maharashtra|  India|\n|      H1017|   Manipal Hospitals| Bengaluru|  Karnataka|  India|\n|      H1018|Yashoda Hospital ...| Hyderabad|  Telangana|  India|\n|      H1019|Apollo Hospitals ...| Bengaluru|  Karnataka|  India|\n+-----------+--------------------+----------+-----------+-------+\n\nroot\n |-- Patient_id: integer (nullable = true)\n |-- Patient_name: string (nullable = true)\n |-- patient_gender: string (nullable = true)\n |-- patient_birth_date: date (nullable = true)\n |-- patient_phone: string (nullable = true)\n |-- disease_name: string (nullable = true)\n |-- city: string (nullable = true)\n |-- hospital_id: string (nullable = true)\n\nroot\n |-- Hospital_id: string (nullable = true)\n |-- Hospital_name: string (nullable = true)\n |-- city: string (nullable = true)\n |-- state: string (nullable = true)\n |-- country: string (nullable = true)\n\n"
     ]
    }
   ],
   "source": [
    "spark.sparkContext._jsc.hadoopConfiguration().set(\"fs.s3a.access.key\", \"AK\")\n",
    "spark.sparkContext._jsc.hadoopConfiguration().set(\"fs.s3a.secret.key\", \"SK\")\n",
    "patient_df = spark.read.csv(\"s3://my-bucket-om/capstone/Patient_records.csv\", header=True, inferSchema=True)\n",
    "hospital_df = spark.read.csv(\"s3://my-bucket-om/capstone/hospital.csv\", header = True, inferSchema = True)\n",
    "patient_df.show()\n",
    "hospital_df.show()\n",
    "patient_df.printSchema()\n",
    "hospital_df.printSchema()\n",
    "\n",
    "patient_df.createOrReplaceTempView(\"patient_df\")\n",
    "hospital_df.createOrReplaceTempView(\"hospital_df\")\n"
   ]
  },
  {
   "cell_type": "code",
   "execution_count": 0,
   "metadata": {
    "application/vnd.databricks.v1+cell": {
     "cellMetadata": {
      "byteLimit": 2048000,
      "implicitDf": true,
      "rowLimit": 10000
     },
     "inputWidgets": {},
     "nuid": "5516bf0b-a400-4711-8e15-936fe3392bd9",
     "showTitle": false,
     "title": ""
    }
   },
   "outputs": [
    {
     "output_type": "display_data",
     "data": {
      "text/html": [
       "<style scoped>\n",
       "  .table-result-container {\n",
       "    max-height: 300px;\n",
       "    overflow: auto;\n",
       "  }\n",
       "  table, th, td {\n",
       "    border: 1px solid black;\n",
       "    border-collapse: collapse;\n",
       "  }\n",
       "  th, td {\n",
       "    padding: 5px;\n",
       "  }\n",
       "  th {\n",
       "    text-align: left;\n",
       "  }\n",
       "</style><div class='table-result-container'><table class='table-result'><thead style='background-color: white'><tr><th>Hospital_name</th><th>city</th><th>Patient_Count</th></tr></thead><tbody><tr><td>Manipal Hospitals</td><td>Bengaluru</td><td>9</td></tr></tbody></table></div>"
      ]
     },
     "metadata": {
      "application/vnd.databricks.v1+output": {
       "addedWidgets": {},
       "aggData": [],
       "aggError": "",
       "aggOverflow": false,
       "aggSchema": [],
       "aggSeriesLimitReached": false,
       "aggType": "",
       "arguments": {},
       "columnCustomDisplayInfos": {},
       "data": [
        [
         "Manipal Hospitals",
         "Bengaluru",
         9
        ]
       ],
       "datasetInfos": [],
       "dbfsResultPath": null,
       "isJsonSchema": true,
       "metadata": {},
       "overflow": false,
       "plotOptions": {
        "customPlotOptions": {},
        "displayType": "table",
        "pivotAggregation": null,
        "pivotColumns": null,
        "xColumns": null,
        "yColumns": null
       },
       "removedWidgets": [],
       "schema": [
        {
         "metadata": "{}",
         "name": "Hospital_name",
         "type": "\"string\""
        },
        {
         "metadata": "{}",
         "name": "city",
         "type": "\"string\""
        },
        {
         "metadata": "{}",
         "name": "Patient_Count",
         "type": "\"long\""
        }
       ],
       "type": "table"
      }
     },
     "output_type": "display_data"
    }
   ],
   "source": [
    "%sql\n",
    "SELECT \n",
    "    h.Hospital_name,\n",
    "    h.city,\n",
    "    COUNT(p.Patient_id) AS Patient_Count\n",
    "FROM \n",
    "    patient_df p\n",
    "JOIN \n",
    "    hospital_df h \n",
    "    ON p.hospital_id = h.Hospital_id\n",
    "GROUP BY \n",
    "    h.Hospital_name, h.city\n",
    "ORDER BY \n",
    "    Patient_Count DESC\n",
    "LIMIT 1;"
   ]
  },
  {
   "cell_type": "code",
   "execution_count": 0,
   "metadata": {
    "application/vnd.databricks.v1+cell": {
     "cellMetadata": {
      "byteLimit": 2048000,
      "rowLimit": 10000
     },
     "inputWidgets": {},
     "nuid": "cb9d2d18-bc26-40b1-8ac2-4afa6ea5d3d6",
     "showTitle": false,
     "title": ""
    }
   },
   "outputs": [
    {
     "output_type": "stream",
     "name": "stdout",
     "output_type": "stream",
     "text": [
      "+-----------------+---------+-------------+\n|    Hospital_name|     city|Patient_Count|\n+-----------------+---------+-------------+\n|Manipal Hospitals|Bengaluru|            9|\n+-----------------+---------+-------------+\n\n"
     ]
    }
   ],
   "source": [
    "output = spark.sql(\"\"\"\n",
    "SELECT h.Hospital_name, h.city, COUNT(p.Patient_id) AS Patient_Count\n",
    "FROM patient_df p\n",
    "JOIN hospital_df h ON p.hospital_id = h.Hospital_id\n",
    "GROUP BY h.Hospital_name, h.city\n",
    "ORDER BY Patient_Count DESC\n",
    "LIMIT 1;\n",
    "\"\"\")\n",
    "\n",
    "\n",
    "\n",
    "output.show()"
   ]
  },
  {
   "cell_type": "code",
   "execution_count": 0,
   "metadata": {
    "application/vnd.databricks.v1+cell": {
     "cellMetadata": {
      "byteLimit": 2048000,
      "rowLimit": 10000
     },
     "inputWidgets": {},
     "nuid": "2c8ea716-ddad-4b95-b710-7bb89b677b5b",
     "showTitle": false,
     "title": ""
    }
   },
   "outputs": [],
   "source": [
    "output.write.format(\"redshift\").option(\"url\", \"jdbc:redshift://default-workgroup.9********8.us-east-2.redshift-serverless.amazonaws.com:5439/dev\").\\\n",
    "   option(\"dbtable\", \"capstone.HospitalServingMaxPatients\").\\\n",
    "   option(\"aws_iam_role\", \"arn:aws:iam::90******8:role/redshift_admin\").\\\n",
    "   option(\"tempdir\", \"s3a://glue-bucket-om999/temp2/\").\\\n",
    "   option(\"user\", \"admin\").\\\n",
    "   option(\"password\", \"********\").save()"
   ]
  }
 ],
 "metadata": {
  "application/vnd.databricks.v1+notebook": {
   "dashboards": [],
   "environmentMetadata": null,
   "language": "python",
   "notebookMetadata": {
    "mostRecentlyExecutedCommandWithImplicitDF": {
     "commandId": 2480362105907848,
     "dataframes": [
      "_sqldf"
     ]
    },
    "pythonIndentUnit": 4
   },
   "notebookName": "HospitalServingMaxPatients",
   "widgets": {}
  }
 },
 "nbformat": 4,
 "nbformat_minor": 0
}
